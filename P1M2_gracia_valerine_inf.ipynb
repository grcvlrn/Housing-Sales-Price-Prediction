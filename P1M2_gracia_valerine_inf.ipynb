{
 "cells": [
  {
   "cell_type": "markdown",
   "metadata": {},
   "source": [
    "# Milestone 2\n",
    "\n",
    "### Name    : Gracia Valerine\n",
    "\n",
    "### Batch   : HCK 017\n",
    "\n",
    "### This program is build to predict the price of houses based on the datas that has been gathered."
   ]
  },
  {
   "cell_type": "markdown",
   "metadata": {},
   "source": [
    "# Model Inference"
   ]
  },
  {
   "cell_type": "markdown",
   "metadata": {},
   "source": [
    "### Import Libraries"
   ]
  },
  {
   "cell_type": "code",
   "execution_count": 10,
   "metadata": {},
   "outputs": [],
   "source": [
    "# Import Library\n",
    "\n",
    "#Dataframe\n",
    "import pandas as pd\n",
    "\n",
    "# Numerical Data\n",
    "import numpy as np\n",
    "\n",
    "# Save Model\n",
    "import pickle\n",
    "import json"
   ]
  },
  {
   "cell_type": "code",
   "execution_count": 11,
   "metadata": {},
   "outputs": [],
   "source": [
    "with open('list_num_cols.txt', 'r') as file_1:\n",
    "  list_num_col = json.load(file_1)\n",
    "\n",
    "with open(\"scaler.pkl\", \"rb\") as file_2:\n",
    "  scaler = pickle.load(file_2)\n",
    "\n",
    "with open(\"model.pkl\", \"rb\") as file_3:\n",
    "  rf = pickle.load(file_3)"
   ]
  },
  {
   "cell_type": "code",
   "execution_count": 12,
   "metadata": {},
   "outputs": [
    {
     "data": {
      "text/html": [
       "<div>\n",
       "<style scoped>\n",
       "    .dataframe tbody tr th:only-of-type {\n",
       "        vertical-align: middle;\n",
       "    }\n",
       "\n",
       "    .dataframe tbody tr th {\n",
       "        vertical-align: top;\n",
       "    }\n",
       "\n",
       "    .dataframe thead th {\n",
       "        text-align: right;\n",
       "    }\n",
       "</style>\n",
       "<table border=\"1\" class=\"dataframe\">\n",
       "  <thead>\n",
       "    <tr style=\"text-align: right;\">\n",
       "      <th></th>\n",
       "      <th>bedrooms</th>\n",
       "      <th>bathrooms</th>\n",
       "      <th>sqft_living</th>\n",
       "      <th>sqft_lot</th>\n",
       "      <th>floors</th>\n",
       "      <th>waterfront</th>\n",
       "      <th>view</th>\n",
       "      <th>condition</th>\n",
       "      <th>grade</th>\n",
       "      <th>sqft_above</th>\n",
       "      <th>sqft_basement</th>\n",
       "      <th>yr_built</th>\n",
       "      <th>yr_renovated</th>\n",
       "      <th>zipcode</th>\n",
       "      <th>lat</th>\n",
       "      <th>long</th>\n",
       "      <th>sqft_living15</th>\n",
       "      <th>sqft_lot15</th>\n",
       "    </tr>\n",
       "  </thead>\n",
       "  <tbody>\n",
       "    <tr>\n",
       "      <th>5</th>\n",
       "      <td>6</td>\n",
       "      <td>4.7</td>\n",
       "      <td>1638</td>\n",
       "      <td>10835</td>\n",
       "      <td>1.7</td>\n",
       "      <td>0</td>\n",
       "      <td>1</td>\n",
       "      <td>4</td>\n",
       "      <td>2</td>\n",
       "      <td>1622</td>\n",
       "      <td>1966</td>\n",
       "      <td>1993</td>\n",
       "      <td>723</td>\n",
       "      <td>98834</td>\n",
       "      <td>47.764621</td>\n",
       "      <td>-121.736246</td>\n",
       "      <td>800</td>\n",
       "      <td>1151</td>\n",
       "    </tr>\n",
       "    <tr>\n",
       "      <th>6</th>\n",
       "      <td>6</td>\n",
       "      <td>2.1</td>\n",
       "      <td>1810</td>\n",
       "      <td>9115</td>\n",
       "      <td>2.1</td>\n",
       "      <td>1</td>\n",
       "      <td>1</td>\n",
       "      <td>3</td>\n",
       "      <td>3</td>\n",
       "      <td>1172</td>\n",
       "      <td>1089</td>\n",
       "      <td>1972</td>\n",
       "      <td>1623</td>\n",
       "      <td>98333</td>\n",
       "      <td>47.776950</td>\n",
       "      <td>-121.855143</td>\n",
       "      <td>3412</td>\n",
       "      <td>4734</td>\n",
       "    </tr>\n",
       "    <tr>\n",
       "      <th>7</th>\n",
       "      <td>5</td>\n",
       "      <td>3.2</td>\n",
       "      <td>3704</td>\n",
       "      <td>3213</td>\n",
       "      <td>2.1</td>\n",
       "      <td>0</td>\n",
       "      <td>2</td>\n",
       "      <td>4</td>\n",
       "      <td>8</td>\n",
       "      <td>915</td>\n",
       "      <td>1791</td>\n",
       "      <td>1930</td>\n",
       "      <td>486</td>\n",
       "      <td>98619</td>\n",
       "      <td>47.175165</td>\n",
       "      <td>-121.705866</td>\n",
       "      <td>4562</td>\n",
       "      <td>10857</td>\n",
       "    </tr>\n",
       "    <tr>\n",
       "      <th>8</th>\n",
       "      <td>5</td>\n",
       "      <td>3.7</td>\n",
       "      <td>4743</td>\n",
       "      <td>14020</td>\n",
       "      <td>1.0</td>\n",
       "      <td>0</td>\n",
       "      <td>0</td>\n",
       "      <td>3</td>\n",
       "      <td>1</td>\n",
       "      <td>1913</td>\n",
       "      <td>1807</td>\n",
       "      <td>1999</td>\n",
       "      <td>1832</td>\n",
       "      <td>98170</td>\n",
       "      <td>47.067244</td>\n",
       "      <td>-122.352264</td>\n",
       "      <td>3754</td>\n",
       "      <td>13988</td>\n",
       "    </tr>\n",
       "    <tr>\n",
       "      <th>9</th>\n",
       "      <td>5</td>\n",
       "      <td>4.3</td>\n",
       "      <td>3356</td>\n",
       "      <td>5611</td>\n",
       "      <td>1.1</td>\n",
       "      <td>0</td>\n",
       "      <td>1</td>\n",
       "      <td>1</td>\n",
       "      <td>12</td>\n",
       "      <td>1321</td>\n",
       "      <td>1544</td>\n",
       "      <td>1990</td>\n",
       "      <td>1870</td>\n",
       "      <td>98348</td>\n",
       "      <td>47.310015</td>\n",
       "      <td>-121.532285</td>\n",
       "      <td>4256</td>\n",
       "      <td>1363</td>\n",
       "    </tr>\n",
       "  </tbody>\n",
       "</table>\n",
       "</div>"
      ],
      "text/plain": [
       "   bedrooms  bathrooms  sqft_living  sqft_lot  floors  waterfront  view  \\\n",
       "5         6        4.7         1638     10835     1.7           0     1   \n",
       "6         6        2.1         1810      9115     2.1           1     1   \n",
       "7         5        3.2         3704      3213     2.1           0     2   \n",
       "8         5        3.7         4743     14020     1.0           0     0   \n",
       "9         5        4.3         3356      5611     1.1           0     1   \n",
       "\n",
       "   condition  grade  sqft_above  sqft_basement  yr_built  yr_renovated  \\\n",
       "5          4      2        1622           1966      1993           723   \n",
       "6          3      3        1172           1089      1972          1623   \n",
       "7          4      8         915           1791      1930           486   \n",
       "8          3      1        1913           1807      1999          1832   \n",
       "9          1     12        1321           1544      1990          1870   \n",
       "\n",
       "   zipcode        lat        long  sqft_living15  sqft_lot15  \n",
       "5    98834  47.764621 -121.736246            800        1151  \n",
       "6    98333  47.776950 -121.855143           3412        4734  \n",
       "7    98619  47.175165 -121.705866           4562       10857  \n",
       "8    98170  47.067244 -122.352264           3754       13988  \n",
       "9    98348  47.310015 -121.532285           4256        1363  "
      ]
     },
     "execution_count": 12,
     "metadata": {},
     "output_type": "execute_result"
    }
   ],
   "source": [
    "#Data Dummy\n",
    "dataDummy = {\n",
    "    'bedrooms': [4, 1, 5, 5, 1, 6, 6, 5, 5, 5],\n",
    "    'bathrooms': [1.2, 2.1, 3.3, 3.7, 3.8, 4.7, 2.1, 3.2, 3.7, 4.3],\n",
    "    'sqft_living': [3236, 4184, 2463, 4524, 1714, 1638, 1810, 3704, 4743, 3356],\n",
    "    'sqft_lot': [12961, 7689, 6273, 11680, 5227, 10835, 9115, 3213, 14020, 5611],\n",
    "    'floors': [2.5, 2.3, 2.1, 1.7, 2.4, 1.7, 2.1, 2.1, 1.0, 1.1],\n",
    "    'waterfront': [1, 0, 0, 1, 0, 0, 1, 0, 0, 0],\n",
    "    'view': [2, 0, 1, 4, 4, 1, 1, 2, 0, 1],\n",
    "    'condition': [3, 4, 3, 4, 1, 4, 3, 4, 3, 1],\n",
    "    'grade': [11, 12, 7, 6, 6, 2, 3, 8, 1, 12],\n",
    "    'sqft_above': [1717, 3036, 2049, 769, 3336, 1622, 1172, 915, 1913, 1321],\n",
    "    'sqft_basement': [1308, 1837, 977, 1811, 1264, 1966, 1089, 1791, 1807, 1544],\n",
    "    'yr_built': [1950, 1950, 1989, 1938, 1996, 1993, 1972, 1930, 1999, 1990],\n",
    "    'yr_renovated': [1802, 628, 502, 724, 291, 723, 1623, 486, 1832, 1870],\n",
    "    'zipcode': [98017, 98520, 98132, 98168, 98257, 98834, 98333, 98619, 98170, 98348],\n",
    "    'lat': [47.878891, 47.000912, 47.659236, 47.633970, 47.142391, 47.764621, 47.776950, 47.175165, 47.067244, 47.310015],\n",
    "    'long': [-121.771605, -121.764418, -121.757800, -121.737283, -122.441047, -121.736246, -121.855143, -121.705866, -122.352264, -121.532285],\n",
    "    'sqft_living15': [4934, 814, 573, 1620, 1201, 800, 3412, 4562, 3754, 4256],\n",
    "    'sqft_lot15': [11941, 7391, 11911, 2076, 6695, 1151, 4734, 10857, 13988, 1363]\n",
    "}\n",
    "\n",
    "#Turn into data frame\n",
    "dfDataDummy = pd.DataFrame(dataDummy)\n",
    "\n",
    "#Check data\n",
    "dfDataDummy.tail()"
   ]
  },
  {
   "cell_type": "markdown",
   "metadata": {},
   "source": [
    "These are the data that will be tested to see how well the model performs with different data. "
   ]
  },
  {
   "cell_type": "markdown",
   "metadata": {},
   "source": [
    "### Inference Feature Engineering"
   ]
  },
  {
   "cell_type": "code",
   "execution_count": 13,
   "metadata": {},
   "outputs": [
    {
     "data": {
      "text/plain": [
       "array([[ 1.00000000e+00, -1.40000000e+00,  1.17345133e+00,\n",
       "         9.51156584e-01,  1.00000000e+00,  1.00000000e+00,\n",
       "         2.00000000e+00,  0.00000000e+00,  4.00000000e+00,\n",
       "         1.53921569e-01,  2.29473684e+00, -5.55555556e-01,\n",
       "         1.80200000e+03, -5.71428571e-01,  1.47751654e+00,\n",
       "         2.25317734e+00,  3.52727273e+00,  8.66148835e-01],\n",
       "       [-2.00000000e+00, -2.00000000e-01,  2.01238938e+00,\n",
       "         1.30782918e-02,  8.00000000e-01,  0.00000000e+00,\n",
       "         0.00000000e+00,  1.00000000e+00,  5.00000000e+00,\n",
       "         1.44705882e+00,  3.22280702e+00, -5.55555556e-01,\n",
       "         6.28000000e+02,  5.41666667e+00, -2.74810733e+00,\n",
       "         2.28858128e+00, -1.15454545e+00, -4.59032824e-02],\n",
       "       [ 2.00000000e+00,  1.40000000e+00,  4.89380531e-01,\n",
       "        -2.38879004e-01,  6.00000000e-01,  0.00000000e+00,\n",
       "         1.00000000e+00,  0.00000000e+00,  0.00000000e+00,\n",
       "         4.79411765e-01,  1.71403509e+00,  3.11111111e-01,\n",
       "         5.02000000e+02,  7.97619048e-01,  4.20339309e-01,\n",
       "         2.32118227e+00, -1.42840909e+00,  8.60135304e-01],\n",
       "       [ 2.00000000e+00,  1.93333333e+00,  2.31327434e+00,\n",
       "         7.23220641e-01,  2.00000000e-01,  1.00000000e+00,\n",
       "         4.00000000e+00,  1.00000000e+00, -1.00000000e+00,\n",
       "        -7.75490196e-01,  3.17719298e+00, -8.22222222e-01,\n",
       "         7.24000000e+02,  1.22619048e+00,  2.98736614e-01,\n",
       "         2.42225123e+00, -2.38636364e-01, -1.11130043e+00],\n",
       "       [-2.00000000e+00,  2.06666667e+00, -1.73451327e-01,\n",
       "        -4.25000000e-01,  9.00000000e-01,  0.00000000e+00,\n",
       "         4.00000000e+00, -2.00000000e+00, -1.00000000e+00,\n",
       "         1.74117647e+00,  2.21754386e+00,  4.66666667e-01,\n",
       "         2.91000000e+02,  2.28571429e+00, -2.06718325e+00,\n",
       "        -1.04456650e+00, -7.14772727e-01, -1.85417189e-01],\n",
       "       [ 3.00000000e+00,  3.26666667e+00, -2.40707965e-01,\n",
       "         5.72864769e-01,  2.00000000e-01,  0.00000000e+00,\n",
       "         1.00000000e+00,  1.00000000e+00, -5.00000000e+00,\n",
       "         6.07843137e-02,  3.44912281e+00,  4.00000000e-01,\n",
       "         7.23000000e+02,  9.15476190e+00,  9.27546625e-01,\n",
       "         2.42735961e+00, -1.17045455e+00, -1.29671761e+00],\n",
       "       [ 3.00000000e+00, -2.00000000e-01, -8.84955752e-02,\n",
       "         2.66814947e-01,  6.00000000e-01,  1.00000000e+00,\n",
       "         1.00000000e+00,  0.00000000e+00, -4.00000000e+00,\n",
       "        -3.80392157e-01,  1.91052632e+00, -6.66666667e-02,\n",
       "         1.62300000e+03,  3.19047619e+00,  9.86884851e-01,\n",
       "         1.84166010e+00,  1.79772727e+00, -5.78501629e-01],\n",
       "       [ 2.00000000e+00,  1.26666667e+00,  1.58761062e+00,\n",
       "        -7.83362989e-01,  6.00000000e-01,  0.00000000e+00,\n",
       "         2.00000000e+00,  1.00000000e+00,  1.00000000e+00,\n",
       "        -6.32352941e-01,  3.14210526e+00, -1.00000000e+00,\n",
       "         4.86000000e+02,  6.59523810e+00, -1.90944531e+00,\n",
       "         2.57701478e+00,  3.10454545e+00,  6.48859935e-01],\n",
       "       [ 2.00000000e+00,  1.93333333e+00,  2.50707965e+00,\n",
       "         1.13959075e+00, -5.00000000e-01,  0.00000000e+00,\n",
       "         0.00000000e+00,  0.00000000e+00, -6.00000000e+00,\n",
       "         3.46078431e-01,  3.17017544e+00,  5.33333333e-01,\n",
       "         1.83200000e+03,  1.25000000e+00, -2.42885814e+00,\n",
       "        -6.07211823e-01,  2.18636364e+00,  1.27647206e+00],\n",
       "       [ 2.00000000e+00,  2.73333333e+00,  1.27964602e+00,\n",
       "        -3.56672598e-01, -4.00000000e-01,  0.00000000e+00,\n",
       "         1.00000000e+00, -2.00000000e+00,  5.00000000e+00,\n",
       "        -2.34313725e-01,  2.70877193e+00,  3.33333333e-01,\n",
       "         1.87000000e+03,  3.36904762e+00, -1.26042594e+00,\n",
       "         3.43209360e+00,  2.75681818e+00, -1.25422200e+00]])"
      ]
     },
     "execution_count": 13,
     "metadata": {},
     "output_type": "execute_result"
    }
   ],
   "source": [
    "#Scaling, and concating\n",
    "data_inference_final = scaler.transform(dfDataDummy)\n",
    "\n",
    "#Check data\n",
    "data_inference_final"
   ]
  },
  {
   "cell_type": "markdown",
   "metadata": {},
   "source": [
    "The data dummy will be scaled for an easier read that will suit the model."
   ]
  },
  {
   "cell_type": "markdown",
   "metadata": {},
   "source": [
    "### Inference Prediction"
   ]
  },
  {
   "cell_type": "markdown",
   "metadata": {},
   "source": [
    "The random forest regressor model will be initialized once more with the best hyperparameter that have been checked by the hyperparameter tuning before. This will hopefully give the best result for the predictions."
   ]
  },
  {
   "cell_type": "code",
   "execution_count": 14,
   "metadata": {},
   "outputs": [
    {
     "name": "stdout",
     "output_type": "stream",
     "text": [
      "Predicted Overall: 366082.12\n"
     ]
    },
    {
     "name": "stderr",
     "output_type": "stream",
     "text": [
      "/opt/anaconda3/lib/python3.11/site-packages/sklearn/base.py:493: UserWarning: X does not have valid feature names, but RandomForestRegressor was fitted with feature names\n",
      "  warnings.warn(\n"
     ]
    }
   ],
   "source": [
    "#Predict  score\n",
    "predicted_score = rf.predict(data_inference_final)\n",
    "\n",
    "#Show result\n",
    "print(f\"Predicted Overall: {predicted_score[0]:.2f}\")"
   ]
  },
  {
   "cell_type": "markdown",
   "metadata": {},
   "source": [
    "The data inference that has been predicted the overall resulted as 366082.12. We can see that the result is quite reasonable for the house price. "
   ]
  }
 ],
 "metadata": {
  "kernelspec": {
   "display_name": "base",
   "language": "python",
   "name": "python3"
  },
  "language_info": {
   "codemirror_mode": {
    "name": "ipython",
    "version": 3
   },
   "file_extension": ".py",
   "mimetype": "text/x-python",
   "name": "python",
   "nbconvert_exporter": "python",
   "pygments_lexer": "ipython3",
   "version": "3.1.undefined"
  }
 },
 "nbformat": 4,
 "nbformat_minor": 2
}
